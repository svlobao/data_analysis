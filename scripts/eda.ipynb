{
 "cells": [
  {
   "attachments": {},
   "cell_type": "markdown",
   "metadata": {},
   "source": [
    "<h4>This dataset presents a list of the 100 most streamed songs on Spotify of all time</h4>\n",
    "(This analysis dates from March 8th 2023)  \n",
    "\n",
    "\n",
    "Dataset source: https://www.kaggle.com/datasets/amaanansari09/most-streamed-songs-all-time\n",
    "\n",
    "\n",
    "\n",
    "\n",
    "<h4>Features description:</h4>\n",
    "\n",
    "- <b>duration:</b> Duration of the song (minutes).\n",
    "\n",
    "\n",
    "- <b>energy:</b> A perceptual measure of intensity and activity.\n",
    "\n",
    "\n",
    "- <b>key:</b> The harmony key, being 0 = C, 1 = C#, ... , 11 = B\n",
    "\n",
    "\n",
    "- <b>loudness:</b> The overall loudness of a track in decibels (dB).\n",
    "\n",
    "\n",
    "- <b>mode:</b> 0 = Major Key; 1 = Minor Key;\n",
    "\n",
    "\n",
    "- <b>speechiness:</b> ?\n",
    "\n",
    "\n",
    "- <b>acousticness:</b> ?\n",
    "\n",
    "\n",
    "- <b>instrumentalness:</b> ?\n",
    "\n",
    "\n",
    "- <b>liveness:</b> ?\n",
    "\n",
    "\n",
    "- <b>valence:</b> ?\n",
    "\n",
    "\n",
    "- <b>tempo:</b> Rhythm of the song (beats/min or bpm)\n",
    "\n",
    "\n",
    "- <b>danceability:</b> ?\n",
    "\n",
    "\n",
    "\n",
    "\n"
   ]
  },
  {
   "attachments": {},
   "cell_type": "markdown",
   "metadata": {},
   "source": [
    "<h3>Objectives and Key Insights</h3>\n",
    "\n",
    "<h4> Answers to be found:</h4>\n",
    "\n",
    "1. What are the artists with more songs in the list\n",
    "\n",
    "2. What are the artists with more streams in the list\n",
    "\n",
    "3. Is there a pattern in terms of \"key\" and \"mode\" for these top songs?\n",
    "\n",
    "4. Do these songs gravitate around an \"optimal duration\"?\n",
    "\n",
    "5. Are there any correlations between \"energy\" and \"tempo\"?\n",
    "\n",
    "6. Do these songs gravitate around an \"optimal duration\"?\n",
    "\n",
    "\n",
    "\n",
    "<h4> Insights that cannot be leveraged with this dataset (and I am particularly interested in!!):</h4>\n",
    "\n",
    "1. What are the chord progressions of each song? Is there a pattern among these top streamed ones?\n",
    "\n",
    "2. What is the primary language the song is sung in? And how many words are there?\n",
    "\n",
    "3. What are the song structures used by each song? (e.g. Intro, Verse, Bridge, Pre Chorus, Chorus, Otro, etc.)\n"
   ]
  },
  {
   "cell_type": "code",
   "execution_count": 373,
   "metadata": {},
   "outputs": [],
   "source": [
    "import os\n",
    "import pandas as pd\n",
    "import numpy as np \n",
    "import seaborn as sb\n",
    "import matplotlib.pyplot as plt\n",
    "import plotly.express as px\n",
    "from datetime import date\n",
    "from dateutil.parser import parse\n",
    "\n",
    "\n",
    "pd.set_option('display.max_columns', 500)\n",
    "pd.set_option('display.max_rows', 100)\n",
    "pd.set_option('display.width', 10000)"
   ]
  },
  {
   "cell_type": "code",
   "execution_count": null,
   "metadata": {},
   "outputs": [],
   "source": [
    "features_file_path = f\"/Users/sandrolobao/Desktop/Python Projects/Streamed Songs Spotify/streamed songs spotify/Features.csv\"\n",
    "\n",
    "streams_file_path = f\"/Users/sandrolobao/Desktop/Python Projects/Streamed Songs Spotify/streamed songs spotify/Streams.csv\""
   ]
  },
  {
   "cell_type": "code",
   "execution_count": null,
   "metadata": {},
   "outputs": [],
   "source": [
    "df_features = pd.read_csv(features_file_path)\n",
    "df_streams = pd.read_csv(streams_file_path)\n",
    "\n",
    "df_merge = pd.merge(left=df_streams, left_on=\"Song\", right=df_features, right_on=\"name\")\n",
    "\n",
    "df_merge = df_merge[[\"Song\", \"Artist\", \"Streams (Billions)\", \"Release Date\", \"duration\", \"energy\", \"key\", \"mode\", \"loudness\", \"tempo\"]]\n",
    "\n",
    "df_merge.head()"
   ]
  },
  {
   "cell_type": "code",
   "execution_count": null,
   "metadata": {},
   "outputs": [],
   "source": [
    "todays_date = date(2023, 3, 8)\n",
    "df_merge.insert(4, \"Today\", todays_date)\n",
    "df_merge['Release Date'] = df_merge['Release Date'].astype('string')\n",
    "df_merge['Release Date'] = df_merge['Release Date'].apply(lambda x: parse(x).date())\n",
    "df_merge['Aging in Days'] = df_merge['Today'] - df_merge['Release Date']\n",
    "df_merge.head()"
   ]
  },
  {
   "cell_type": "code",
   "execution_count": null,
   "metadata": {},
   "outputs": [],
   "source": [
    "df_merge['Aging in Days'] = df_merge['Aging in Days'].dt.total_seconds() / (60*60*24)\n",
    "df_merge.head()"
   ]
  },
  {
   "cell_type": "code",
   "execution_count": null,
   "metadata": {},
   "outputs": [],
   "source": [
    "sb.scatterplot(y='Streams (Billions)', x='Aging in Days', data=df_merge)"
   ]
  },
  {
   "cell_type": "code",
   "execution_count": null,
   "metadata": {},
   "outputs": [],
   "source": [
    "sb.scatterplot(y='Streams (Billions)', x='duration', data=df_merge)"
   ]
  },
  {
   "cell_type": "code",
   "execution_count": null,
   "metadata": {},
   "outputs": [],
   "source": [
    "df_merge.nunique()"
   ]
  },
  {
   "cell_type": "code",
   "execution_count": null,
   "metadata": {},
   "outputs": [],
   "source": [
    "# Artists with more songs\n",
    "artistOccurrences = df_merge['Artist'].value_counts()\n",
    "artistOccurrences"
   ]
  },
  {
   "cell_type": "code",
   "execution_count": null,
   "metadata": {},
   "outputs": [],
   "source": [
    "barplot_1 = sb.barplot(x=artistOccurrences.index[:15], y=artistOccurrences.values[:15])\n",
    "\n",
    "barplot_1.set_xticklabels(barplot_1.get_xticklabels(), rotation=45, ha='right')\n",
    "\n",
    "sb.despine()"
   ]
  },
  {
   "cell_type": "code",
   "execution_count": null,
   "metadata": {},
   "outputs": [],
   "source": [
    "# Artists with more streams\n",
    "streamSum = df_merge.groupby('Artist')['Streams (Billions)'].sum()\n",
    "streamSum = streamSum.sort_values(ascending=False)\n",
    "streamSum"
   ]
  },
  {
   "attachments": {},
   "cell_type": "markdown",
   "metadata": {},
   "source": [
    "TODO: Address the issue of the \"featuring\" artists (e.g. \"Post Malone featuring 21 Savage\" is a different singer when compared to \"Post Malone\"). Perhaps I should consider only the main singer...\n",
    "\n",
    "TODO: I would like to see what does the average streams per day look like for them..."
   ]
  },
  {
   "cell_type": "code",
   "execution_count": null,
   "metadata": {},
   "outputs": [],
   "source": [
    "fig = px.bar(df_merge, x=streamSum.index[:15], y=streamSum.values[:15])\n",
    "fig.update_layout(title='Streams per Artist in Billions', xaxis_title='Artist', yaxis_title='Streams')\n",
    "fig.show()"
   ]
  },
  {
   "cell_type": "code",
   "execution_count": null,
   "metadata": {},
   "outputs": [],
   "source": [
    "key_mode_count = df_merge.groupby(['key', 'mode'])['Artist'].size()\n",
    "key_mode_count.sort_values(ascending=False)"
   ]
  },
  {
   "attachments": {},
   "cell_type": "markdown",
   "metadata": {},
   "source": [
    "1. No songs in D (key=2 and mode=0), whereas there's 8 songs in Dm (key=2 and mode=1)\n",
    "2. Songs in Eb, Ebm, F, and G# make the bottom of the list\n",
    "3. Minor keys make the top three of the list (in terms of number of songs), and they are: C#m, Dm, and Gm"
   ]
  }
 ],
 "metadata": {
  "kernelspec": {
   "display_name": "Python 3",
   "language": "python",
   "name": "python3"
  },
  "language_info": {
   "codemirror_mode": {
    "name": "ipython",
    "version": 3
   },
   "file_extension": ".py",
   "mimetype": "text/x-python",
   "name": "python",
   "nbconvert_exporter": "python",
   "pygments_lexer": "ipython3",
   "version": "3.9.11"
  },
  "orig_nbformat": 4,
  "vscode": {
   "interpreter": {
    "hash": "aee8b7b246df8f9039afb4144a1f6fd8d2ca17a180786b69acc140d282b71a49"
   }
  }
 },
 "nbformat": 4,
 "nbformat_minor": 2
}
