{
 "cells": [
  {
   "attachments": {},
   "cell_type": "markdown",
   "metadata": {},
   "source": [
    "<h4>This dataset presents a list of the 100 most streamed songs on Spotify of all time</h4>\n",
    "(This analysis dates from March 8th 2023)  \n",
    "\n",
    "\n",
    "Dataset source: https://www.kaggle.com/datasets/amaanansari09/most-streamed-songs-all-time\n",
    "\n",
    "\n",
    "\n",
    "\n",
    "<h4>Features description:</h4>\n",
    "\n",
    "- <b>duration:</b> Duration of the song (minutes).\n",
    "\n",
    "\n",
    "- <b>energy:</b> A perceptual measure of intensity and activity.\n",
    "\n",
    "\n",
    "- <b>key:</b> The harmony key, being 0 = C, 1 = C#, ... , 11 = B\n",
    "\n",
    "\n",
    "- <b>loudness:</b> The overall loudness of a track in decibels (dB).\n",
    "\n",
    "\n",
    "- <b>mode:</b> 0 = Major Key; 1 = Minor Key;\n",
    "\n",
    "\n",
    "- <b>speechiness:</b> ?\n",
    "\n",
    "\n",
    "- <b>acousticness:</b> ?\n",
    "\n",
    "\n",
    "- <b>instrumentalness:</b> ?\n",
    "\n",
    "\n",
    "- <b>liveness:</b> ?\n",
    "\n",
    "\n",
    "- <b>valence:</b> ?\n",
    "\n",
    "\n",
    "- <b>tempo:</b> Rhythm of the song (beats/min or bpm)\n",
    "\n",
    "\n",
    "- <b>danceability:</b> ?\n",
    "\n",
    "\n",
    "\n",
    "\n"
   ]
  },
  {
   "cell_type": "code",
   "execution_count": 219,
   "metadata": {},
   "outputs": [],
   "source": [
    "import os\n",
    "import pandas as pd\n",
    "import numpy as np \n",
    "import seaborn as sb\n",
    "import matplotlib.pyplot as plt\n",
    "from datetime import date\n",
    "from dateutil.parser import parse"
   ]
  },
  {
   "cell_type": "code",
   "execution_count": 220,
   "metadata": {},
   "outputs": [],
   "source": [
    "features_file_path = f\"/Users/sandrolobao/Desktop/Python Projects/Streamed Songs Spotify/streamed songs spotify/Features.csv\"\n",
    "\n",
    "streams_file_path = f\"/Users/sandrolobao/Desktop/Python Projects/Streamed Songs Spotify/streamed songs spotify/Streams.csv\""
   ]
  },
  {
   "cell_type": "code",
   "execution_count": 221,
   "metadata": {},
   "outputs": [
    {
     "data": {
      "text/html": [
       "<div>\n",
       "<style scoped>\n",
       "    .dataframe tbody tr th:only-of-type {\n",
       "        vertical-align: middle;\n",
       "    }\n",
       "\n",
       "    .dataframe tbody tr th {\n",
       "        vertical-align: top;\n",
       "    }\n",
       "\n",
       "    .dataframe thead th {\n",
       "        text-align: right;\n",
       "    }\n",
       "</style>\n",
       "<table border=\"1\" class=\"dataframe\">\n",
       "  <thead>\n",
       "    <tr style=\"text-align: right;\">\n",
       "      <th></th>\n",
       "      <th>Song</th>\n",
       "      <th>Artist</th>\n",
       "      <th>Streams (Billions)</th>\n",
       "      <th>Release Date</th>\n",
       "      <th>duration</th>\n",
       "      <th>energy</th>\n",
       "      <th>key</th>\n",
       "      <th>mode</th>\n",
       "      <th>loudness</th>\n",
       "      <th>tempo</th>\n",
       "    </tr>\n",
       "  </thead>\n",
       "  <tbody>\n",
       "    <tr>\n",
       "      <th>0</th>\n",
       "      <td>Blinding Lights</td>\n",
       "      <td>The Weeknd</td>\n",
       "      <td>3.449</td>\n",
       "      <td>29-Nov-19</td>\n",
       "      <td>3.33</td>\n",
       "      <td>0.730</td>\n",
       "      <td>1</td>\n",
       "      <td>1</td>\n",
       "      <td>-5.934</td>\n",
       "      <td>171.005</td>\n",
       "    </tr>\n",
       "    <tr>\n",
       "      <th>1</th>\n",
       "      <td>Shape of You</td>\n",
       "      <td>Ed Sheeran</td>\n",
       "      <td>3.398</td>\n",
       "      <td>06-Jan-17</td>\n",
       "      <td>3.90</td>\n",
       "      <td>0.652</td>\n",
       "      <td>1</td>\n",
       "      <td>0</td>\n",
       "      <td>-3.183</td>\n",
       "      <td>95.977</td>\n",
       "    </tr>\n",
       "    <tr>\n",
       "      <th>2</th>\n",
       "      <td>Dance Monkey</td>\n",
       "      <td>Tones And I</td>\n",
       "      <td>2.770</td>\n",
       "      <td>10-May-19</td>\n",
       "      <td>3.49</td>\n",
       "      <td>0.588</td>\n",
       "      <td>6</td>\n",
       "      <td>0</td>\n",
       "      <td>-6.400</td>\n",
       "      <td>98.027</td>\n",
       "    </tr>\n",
       "    <tr>\n",
       "      <th>3</th>\n",
       "      <td>Someone You Loved</td>\n",
       "      <td>Lewis Capaldi</td>\n",
       "      <td>2.680</td>\n",
       "      <td>08-Nov-18</td>\n",
       "      <td>3.04</td>\n",
       "      <td>0.405</td>\n",
       "      <td>1</td>\n",
       "      <td>1</td>\n",
       "      <td>-5.679</td>\n",
       "      <td>109.891</td>\n",
       "    </tr>\n",
       "    <tr>\n",
       "      <th>4</th>\n",
       "      <td>Rockstar</td>\n",
       "      <td>Post Malone featuring 21 Savage</td>\n",
       "      <td>2.620</td>\n",
       "      <td>15-Sep-17</td>\n",
       "      <td>3.64</td>\n",
       "      <td>0.520</td>\n",
       "      <td>5</td>\n",
       "      <td>0</td>\n",
       "      <td>-6.136</td>\n",
       "      <td>159.801</td>\n",
       "    </tr>\n",
       "  </tbody>\n",
       "</table>\n",
       "</div>"
      ],
      "text/plain": [
       "                Song                           Artist  Streams (Billions)  \\\n",
       "0    Blinding Lights                       The Weeknd               3.449   \n",
       "1       Shape of You                       Ed Sheeran               3.398   \n",
       "2       Dance Monkey                      Tones And I               2.770   \n",
       "3  Someone You Loved                    Lewis Capaldi               2.680   \n",
       "4           Rockstar  Post Malone featuring 21 Savage               2.620   \n",
       "\n",
       "  Release Date  duration  energy  key  mode  loudness    tempo  \n",
       "0    29-Nov-19      3.33   0.730    1     1    -5.934  171.005  \n",
       "1    06-Jan-17      3.90   0.652    1     0    -3.183   95.977  \n",
       "2    10-May-19      3.49   0.588    6     0    -6.400   98.027  \n",
       "3    08-Nov-18      3.04   0.405    1     1    -5.679  109.891  \n",
       "4    15-Sep-17      3.64   0.520    5     0    -6.136  159.801  "
      ]
     },
     "execution_count": 221,
     "metadata": {},
     "output_type": "execute_result"
    }
   ],
   "source": [
    "df_features = pd.read_csv(features_file_path)\n",
    "df_streams = pd.read_csv(streams_file_path)\n",
    "\n",
    "df_merge = pd.merge(left=df_streams, left_on=\"Song\", right=df_features, right_on=\"name\")\n",
    "\n",
    "df_merge = df_merge[[\"Song\", \"Artist\", \"Streams (Billions)\", \"Release Date\", \"duration\", \"energy\", \"key\", \"mode\", \"loudness\", \"tempo\"]]\n",
    "\n",
    "df_merge.head()"
   ]
  },
  {
   "cell_type": "code",
   "execution_count": 222,
   "metadata": {},
   "outputs": [
    {
     "data": {
      "text/html": [
       "<div>\n",
       "<style scoped>\n",
       "    .dataframe tbody tr th:only-of-type {\n",
       "        vertical-align: middle;\n",
       "    }\n",
       "\n",
       "    .dataframe tbody tr th {\n",
       "        vertical-align: top;\n",
       "    }\n",
       "\n",
       "    .dataframe thead th {\n",
       "        text-align: right;\n",
       "    }\n",
       "</style>\n",
       "<table border=\"1\" class=\"dataframe\">\n",
       "  <thead>\n",
       "    <tr style=\"text-align: right;\">\n",
       "      <th></th>\n",
       "      <th>Song</th>\n",
       "      <th>Artist</th>\n",
       "      <th>Streams (Billions)</th>\n",
       "      <th>Release Date</th>\n",
       "      <th>Today</th>\n",
       "      <th>duration</th>\n",
       "      <th>energy</th>\n",
       "      <th>key</th>\n",
       "      <th>mode</th>\n",
       "      <th>loudness</th>\n",
       "      <th>tempo</th>\n",
       "      <th>Aging in Days</th>\n",
       "    </tr>\n",
       "  </thead>\n",
       "  <tbody>\n",
       "    <tr>\n",
       "      <th>0</th>\n",
       "      <td>Blinding Lights</td>\n",
       "      <td>The Weeknd</td>\n",
       "      <td>3.449</td>\n",
       "      <td>2019-11-29</td>\n",
       "      <td>2023-03-08</td>\n",
       "      <td>3.33</td>\n",
       "      <td>0.730</td>\n",
       "      <td>1</td>\n",
       "      <td>1</td>\n",
       "      <td>-5.934</td>\n",
       "      <td>171.005</td>\n",
       "      <td>1195 days</td>\n",
       "    </tr>\n",
       "    <tr>\n",
       "      <th>1</th>\n",
       "      <td>Shape of You</td>\n",
       "      <td>Ed Sheeran</td>\n",
       "      <td>3.398</td>\n",
       "      <td>2017-01-06</td>\n",
       "      <td>2023-03-08</td>\n",
       "      <td>3.90</td>\n",
       "      <td>0.652</td>\n",
       "      <td>1</td>\n",
       "      <td>0</td>\n",
       "      <td>-3.183</td>\n",
       "      <td>95.977</td>\n",
       "      <td>2252 days</td>\n",
       "    </tr>\n",
       "    <tr>\n",
       "      <th>2</th>\n",
       "      <td>Dance Monkey</td>\n",
       "      <td>Tones And I</td>\n",
       "      <td>2.770</td>\n",
       "      <td>2019-05-10</td>\n",
       "      <td>2023-03-08</td>\n",
       "      <td>3.49</td>\n",
       "      <td>0.588</td>\n",
       "      <td>6</td>\n",
       "      <td>0</td>\n",
       "      <td>-6.400</td>\n",
       "      <td>98.027</td>\n",
       "      <td>1398 days</td>\n",
       "    </tr>\n",
       "    <tr>\n",
       "      <th>3</th>\n",
       "      <td>Someone You Loved</td>\n",
       "      <td>Lewis Capaldi</td>\n",
       "      <td>2.680</td>\n",
       "      <td>2018-11-08</td>\n",
       "      <td>2023-03-08</td>\n",
       "      <td>3.04</td>\n",
       "      <td>0.405</td>\n",
       "      <td>1</td>\n",
       "      <td>1</td>\n",
       "      <td>-5.679</td>\n",
       "      <td>109.891</td>\n",
       "      <td>1581 days</td>\n",
       "    </tr>\n",
       "    <tr>\n",
       "      <th>4</th>\n",
       "      <td>Rockstar</td>\n",
       "      <td>Post Malone featuring 21 Savage</td>\n",
       "      <td>2.620</td>\n",
       "      <td>2017-09-15</td>\n",
       "      <td>2023-03-08</td>\n",
       "      <td>3.64</td>\n",
       "      <td>0.520</td>\n",
       "      <td>5</td>\n",
       "      <td>0</td>\n",
       "      <td>-6.136</td>\n",
       "      <td>159.801</td>\n",
       "      <td>2000 days</td>\n",
       "    </tr>\n",
       "  </tbody>\n",
       "</table>\n",
       "</div>"
      ],
      "text/plain": [
       "                Song                           Artist  Streams (Billions)  \\\n",
       "0    Blinding Lights                       The Weeknd               3.449   \n",
       "1       Shape of You                       Ed Sheeran               3.398   \n",
       "2       Dance Monkey                      Tones And I               2.770   \n",
       "3  Someone You Loved                    Lewis Capaldi               2.680   \n",
       "4           Rockstar  Post Malone featuring 21 Savage               2.620   \n",
       "\n",
       "  Release Date       Today  duration  energy  key  mode  loudness    tempo  \\\n",
       "0   2019-11-29  2023-03-08      3.33   0.730    1     1    -5.934  171.005   \n",
       "1   2017-01-06  2023-03-08      3.90   0.652    1     0    -3.183   95.977   \n",
       "2   2019-05-10  2023-03-08      3.49   0.588    6     0    -6.400   98.027   \n",
       "3   2018-11-08  2023-03-08      3.04   0.405    1     1    -5.679  109.891   \n",
       "4   2017-09-15  2023-03-08      3.64   0.520    5     0    -6.136  159.801   \n",
       "\n",
       "  Aging in Days  \n",
       "0     1195 days  \n",
       "1     2252 days  \n",
       "2     1398 days  \n",
       "3     1581 days  \n",
       "4     2000 days  "
      ]
     },
     "execution_count": 222,
     "metadata": {},
     "output_type": "execute_result"
    }
   ],
   "source": [
    "todays_date = date(2023, 3, 8)\n",
    "df_merge.insert(4, \"Today\", todays_date)\n",
    "df_merge['Release Date'] = df_merge['Release Date'].astype('string')\n",
    "df_merge['Release Date'] = df_merge['Release Date'].apply(lambda x: parse(x).date())\n",
    "df_merge['Aging in Days'] = df_merge['Today'] - df_merge['Release Date']\n",
    "df_merge.head()"
   ]
  },
  {
   "cell_type": "code",
   "execution_count": 223,
   "metadata": {},
   "outputs": [
    {
     "data": {
      "text/html": [
       "<div>\n",
       "<style scoped>\n",
       "    .dataframe tbody tr th:only-of-type {\n",
       "        vertical-align: middle;\n",
       "    }\n",
       "\n",
       "    .dataframe tbody tr th {\n",
       "        vertical-align: top;\n",
       "    }\n",
       "\n",
       "    .dataframe thead th {\n",
       "        text-align: right;\n",
       "    }\n",
       "</style>\n",
       "<table border=\"1\" class=\"dataframe\">\n",
       "  <thead>\n",
       "    <tr style=\"text-align: right;\">\n",
       "      <th></th>\n",
       "      <th>Song</th>\n",
       "      <th>Artist</th>\n",
       "      <th>Streams (Billions)</th>\n",
       "      <th>Release Date</th>\n",
       "      <th>Today</th>\n",
       "      <th>duration</th>\n",
       "      <th>energy</th>\n",
       "      <th>key</th>\n",
       "      <th>mode</th>\n",
       "      <th>loudness</th>\n",
       "      <th>tempo</th>\n",
       "      <th>Aging in Days</th>\n",
       "    </tr>\n",
       "  </thead>\n",
       "  <tbody>\n",
       "    <tr>\n",
       "      <th>0</th>\n",
       "      <td>Blinding Lights</td>\n",
       "      <td>The Weeknd</td>\n",
       "      <td>3.449</td>\n",
       "      <td>2019-11-29</td>\n",
       "      <td>2023-03-08</td>\n",
       "      <td>3.33</td>\n",
       "      <td>0.730</td>\n",
       "      <td>1</td>\n",
       "      <td>1</td>\n",
       "      <td>-5.934</td>\n",
       "      <td>171.005</td>\n",
       "      <td>1195.0</td>\n",
       "    </tr>\n",
       "    <tr>\n",
       "      <th>1</th>\n",
       "      <td>Shape of You</td>\n",
       "      <td>Ed Sheeran</td>\n",
       "      <td>3.398</td>\n",
       "      <td>2017-01-06</td>\n",
       "      <td>2023-03-08</td>\n",
       "      <td>3.90</td>\n",
       "      <td>0.652</td>\n",
       "      <td>1</td>\n",
       "      <td>0</td>\n",
       "      <td>-3.183</td>\n",
       "      <td>95.977</td>\n",
       "      <td>2252.0</td>\n",
       "    </tr>\n",
       "    <tr>\n",
       "      <th>2</th>\n",
       "      <td>Dance Monkey</td>\n",
       "      <td>Tones And I</td>\n",
       "      <td>2.770</td>\n",
       "      <td>2019-05-10</td>\n",
       "      <td>2023-03-08</td>\n",
       "      <td>3.49</td>\n",
       "      <td>0.588</td>\n",
       "      <td>6</td>\n",
       "      <td>0</td>\n",
       "      <td>-6.400</td>\n",
       "      <td>98.027</td>\n",
       "      <td>1398.0</td>\n",
       "    </tr>\n",
       "    <tr>\n",
       "      <th>3</th>\n",
       "      <td>Someone You Loved</td>\n",
       "      <td>Lewis Capaldi</td>\n",
       "      <td>2.680</td>\n",
       "      <td>2018-11-08</td>\n",
       "      <td>2023-03-08</td>\n",
       "      <td>3.04</td>\n",
       "      <td>0.405</td>\n",
       "      <td>1</td>\n",
       "      <td>1</td>\n",
       "      <td>-5.679</td>\n",
       "      <td>109.891</td>\n",
       "      <td>1581.0</td>\n",
       "    </tr>\n",
       "    <tr>\n",
       "      <th>4</th>\n",
       "      <td>Rockstar</td>\n",
       "      <td>Post Malone featuring 21 Savage</td>\n",
       "      <td>2.620</td>\n",
       "      <td>2017-09-15</td>\n",
       "      <td>2023-03-08</td>\n",
       "      <td>3.64</td>\n",
       "      <td>0.520</td>\n",
       "      <td>5</td>\n",
       "      <td>0</td>\n",
       "      <td>-6.136</td>\n",
       "      <td>159.801</td>\n",
       "      <td>2000.0</td>\n",
       "    </tr>\n",
       "  </tbody>\n",
       "</table>\n",
       "</div>"
      ],
      "text/plain": [
       "                Song                           Artist  Streams (Billions)  \\\n",
       "0    Blinding Lights                       The Weeknd               3.449   \n",
       "1       Shape of You                       Ed Sheeran               3.398   \n",
       "2       Dance Monkey                      Tones And I               2.770   \n",
       "3  Someone You Loved                    Lewis Capaldi               2.680   \n",
       "4           Rockstar  Post Malone featuring 21 Savage               2.620   \n",
       "\n",
       "  Release Date       Today  duration  energy  key  mode  loudness    tempo  \\\n",
       "0   2019-11-29  2023-03-08      3.33   0.730    1     1    -5.934  171.005   \n",
       "1   2017-01-06  2023-03-08      3.90   0.652    1     0    -3.183   95.977   \n",
       "2   2019-05-10  2023-03-08      3.49   0.588    6     0    -6.400   98.027   \n",
       "3   2018-11-08  2023-03-08      3.04   0.405    1     1    -5.679  109.891   \n",
       "4   2017-09-15  2023-03-08      3.64   0.520    5     0    -6.136  159.801   \n",
       "\n",
       "   Aging in Days  \n",
       "0         1195.0  \n",
       "1         2252.0  \n",
       "2         1398.0  \n",
       "3         1581.0  \n",
       "4         2000.0  "
      ]
     },
     "execution_count": 223,
     "metadata": {},
     "output_type": "execute_result"
    }
   ],
   "source": [
    "df_merge['Aging in Days'] = df_merge['Aging in Days'].dt.total_seconds() / (60*60*24)\n",
    "df_merge.head()"
   ]
  },
  {
   "cell_type": "code",
   "execution_count": 224,
   "metadata": {},
   "outputs": [
    {
     "data": {
      "text/plain": [
       "<AxesSubplot:xlabel='Aging in Days', ylabel='Streams (Billions)'>"
      ]
     },
     "execution_count": 224,
     "metadata": {},
     "output_type": "execute_result"
    },
    {
     "data": {
      "image/png": "[encoded data removed]",
      "text/plain": [
       "<Figure size 640x480 with 1 Axes>"
      ]
     },
     "metadata": {},
     "output_type": "display_data"
    }
   ],
   "source": [
    "sb.scatterplot(y='Streams (Billions)', x='Aging in Days', data=df_merge)"
   ]
  },
  {
   "cell_type": "code",
   "execution_count": 231,
   "metadata": {},
   "outputs": [
    {
     "data": {
      "text/plain": [
       "<AxesSubplot:xlabel='duration', ylabel='Streams (Billions)'>"
      ]
     },
     "execution_count": 231,
     "metadata": {},
     "output_type": "execute_result"
    },
    {
     "data": {
      "image/png": "[encoded data removed]",
      "text/plain": [
       "<Figure size 640x480 with 1 Axes>"
      ]
     },
     "metadata": {},
     "output_type": "display_data"
    }
   ],
   "source": [
    "sb.scatterplot(y='Streams (Billions)', x='duration', data=df_merge)"
   ]
  },
  {
   "cell_type": "code",
   "execution_count": 225,
   "metadata": {},
   "outputs": [
    {
     "data": {
      "text/plain": [
       "Song                  100\n",
       "Artist                 81\n",
       "Streams (Billions)     94\n",
       "Release Date           97\n",
       "Today                   1\n",
       "duration               84\n",
       "energy                 94\n",
       "key                    12\n",
       "mode                    2\n",
       "loudness               99\n",
       "tempo                  99\n",
       "Aging in Days          97\n",
       "dtype: int64"
      ]
     },
     "execution_count": 225,
     "metadata": {},
     "output_type": "execute_result"
    }
   ],
   "source": [
    "df_merge.nunique()"
   ]
  },
  {
   "cell_type": "code",
   "execution_count": 226,
   "metadata": {},
   "outputs": [
    {
     "data": {
      "text/plain": [
       "Ed Sheeran                               4\n",
       "Shawn Mendes                             3\n",
       "Imagine Dragons                          3\n",
       "XXXTentacion                             3\n",
       "The Weeknd                               2\n",
       "                                        ..\n",
       "Camila Cabello featuring Young Thug      1\n",
       "Travis Scott featuring Kendrick Lamar    1\n",
       "John Legend                              1\n",
       "Hozier                                   1\n",
       "Luis Fonsi featuring Daddy Yankee        1\n",
       "Name: Artist, Length: 81, dtype: int64"
      ]
     },
     "execution_count": 226,
     "metadata": {},
     "output_type": "execute_result"
    }
   ],
   "source": [
    "artistOccurrences = df_merge['Artist'].value_counts()\n",
    "artistOccurrences"
   ]
  },
  {
   "cell_type": "code",
   "execution_count": 230,
   "metadata": {},
   "outputs": [
    {
     "data": {
      "image/png": "[encoded data removed]",
      "text/plain": [
       "<Figure size 640x480 with 1 Axes>"
      ]
     },
     "metadata": {},
     "output_type": "display_data"
    }
   ],
   "source": [
    "barplot_1 = sb.barplot(x=artistOccurrences.index[:15], y=artistOccurrences.values[:15])\n",
    "\n",
    "barplot_1.set_xticklabels(barplot_1.get_xticklabels(), rotation=45, ha='right')\n",
    "\n",
    "sb.despine()"
   ]
  },
  {
   "cell_type": "code",
   "execution_count": null,
   "metadata": {},
   "outputs": [],
   "source": []
  }
 ],
 "metadata": {
  "kernelspec": {
   "display_name": "Python 3",
   "language": "python",
   "name": "python3"
  },
  "language_info": {
   "codemirror_mode": {
    "name": "ipython",
    "version": 3
   },
   "file_extension": ".py",
   "mimetype": "text/x-python",
   "name": "python",
   "nbconvert_exporter": "python",
   "pygments_lexer": "ipython3",
   "version": "3.9.11"
  },
  "orig_nbformat": 4,
  "vscode": {
   "interpreter": {
    "hash": "aee8b7b246df8f9039afb4144a1f6fd8d2ca17a180786b69acc140d282b71a49"
   }
  }
 },
 "nbformat": 4,
 "nbformat_minor": 2
}
